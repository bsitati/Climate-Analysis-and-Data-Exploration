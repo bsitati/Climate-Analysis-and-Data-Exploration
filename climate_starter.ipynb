{
 "cells": [
  {
   "cell_type": "code",
   "execution_count": 43,
   "metadata": {},
   "outputs": [],
   "source": [
    "%matplotlib inline\n",
    "from matplotlib import style\n",
    "style.use('fivethirtyeight')\n",
    "import matplotlib.pyplot as plt\n",
    "from dateutil.relativedelta import relativedelta\n",
    "from datetime import date\n",
    "import dateutil.parser"
   ]
  },
  {
   "cell_type": "code",
   "execution_count": 44,
   "metadata": {},
   "outputs": [],
   "source": [
    "style.use('fivethirtyeight')\n",
    "from dateutil.relativedelta import relativedelta\n",
    "from datetime import date\n",
    "import dateutil.parser"
   ]
  },
  {
   "cell_type": "code",
   "execution_count": 45,
   "metadata": {},
   "outputs": [],
   "source": [
    "import numpy as np\n",
    "import pandas as pd"
   ]
  },
  {
   "cell_type": "code",
   "execution_count": 8,
   "metadata": {},
   "outputs": [],
   "source": [
    "import datetime as dt, timedelta"
   ]
  },
  {
   "cell_type": "markdown",
   "metadata": {},
   "source": [
    "# Reflect Tables into SQLAlchemy ORM"
   ]
  },
  {
   "cell_type": "code",
   "execution_count": 9,
   "metadata": {},
   "outputs": [],
   "source": [
    "# Python SQL toolkit and Object Relational Mapper\n",
    "import sqlalchemy \n",
    "from sqlalchemy.ext.automap import automap_base\n",
    "from sqlalchemy.orm import Session\n",
    "from sqlalchemy import desc\n",
    "from sqlalchemy import create_engine, func, inspect \n",
    "from sqlalchemy.sql import label"
   ]
  },
  {
   "cell_type": "code",
   "execution_count": 10,
   "metadata": {},
   "outputs": [],
   "source": [
    "engine = create_engine(\"sqlite:///Resources/hawaii.sqlite\")"
   ]
  },
  {
   "cell_type": "code",
   "execution_count": 11,
   "metadata": {},
   "outputs": [],
   "source": [
    "# reflect an existing database into a new model\n",
    "Base = automap_base()\n",
    "# reflect the tables\n",
    "Base.prepare(engine, reflect=True)"
   ]
  },
  {
   "cell_type": "code",
   "execution_count": 12,
   "metadata": {},
   "outputs": [
    {
     "data": {
      "text/plain": [
       "['measurement', 'station']"
      ]
     },
     "execution_count": 12,
     "metadata": {},
     "output_type": "execute_result"
    }
   ],
   "source": [
    "# We can view all of the classes that automap found\n",
    "Base.classes.keys()"
   ]
  },
  {
   "cell_type": "code",
   "execution_count": 13,
   "metadata": {},
   "outputs": [],
   "source": [
    "# Save references to each table\n",
    "Measurements = Base.classes.measurement\n",
    "Stations = Base.classes.station"
   ]
  },
  {
   "cell_type": "code",
   "execution_count": 14,
   "metadata": {},
   "outputs": [],
   "source": [
    "# Create our session (link) from Python to the DB\n",
    "session = Session(engine)"
   ]
  },
  {
   "cell_type": "code",
   "execution_count": 15,
   "metadata": {},
   "outputs": [
    {
     "name": "stdout",
     "output_type": "stream",
     "text": [
      "measurement table schema \n",
      "id INTEGER\n",
      "station TEXT\n",
      "date TEXT\n",
      "prcp FLOAT\n",
      "tobs FLOAT\n",
      "station table schema \n",
      "id INTEGER\n",
      "station TEXT\n",
      "name TEXT\n",
      "latitude FLOAT\n",
      "longitude FLOAT\n",
      "elevation FLOAT\n"
     ]
    }
   ],
   "source": [
    "# Create the inspector and connect it to the engine\n",
    "inspector = inspect(engine)\n",
    "\n",
    "# Collect the names of tables within the database\n",
    "inspector.get_table_names()\n",
    "# Using the inspector to print the column names within the 'measurement' table and its types\n",
    "columns = inspector.get_columns('measurement')\n",
    "print(f\"measurement table schema \")\n",
    "for column in columns:\n",
    "    print(column[\"name\"], column[\"type\"])\n",
    "\n",
    "# Using the inspector to print the column names within the 'measurement' table and its types\n",
    "columns = inspector.get_columns('station')\n",
    "print(f\"station table schema \")\n",
    "for column in columns:\n",
    "    print(column[\"name\"], column[\"type\"])"
   ]
  },
  {
   "cell_type": "markdown",
   "metadata": {},
   "source": [
    "# Exploratory Climate Analysis"
   ]
  },
  {
   "cell_type": "code",
   "execution_count": 16,
   "metadata": {},
   "outputs": [
    {
     "name": "stdout",
     "output_type": "stream",
     "text": [
      "2017-08-23\n",
      "2016-08-23 00:00:00\n"
     ]
    },
    {
     "data": {
      "text/plain": [
       "<matplotlib.legend.Legend at 0x1e1b5719da0>"
      ]
     },
     "execution_count": 16,
     "metadata": {},
     "output_type": "execute_result"
    },
    {
     "data": {
      "image/png": "[encoded data removed]",
      "text/plain": [
       "<Figure size 432x288 with 1 Axes>"
      ]
     },
     "metadata": {},
     "output_type": "display_data"
    }
   ],
   "source": [
    "from matplotlib import docstring\n",
    "from matplotlib.backend_bases import FigureCanvasBase\n",
    "from matplotlib.figure import Figure, figaspect\n",
    "from matplotlib.gridspec import GridSpec\n",
    "from matplotlib import rcParams, rcParamsDefault, get_backend, rcParamsOrig\n",
    "from matplotlib import axes, cbook\n",
    "\n",
    "# Design a query to retrieve the last 12 months of precipitation data and plot the results\n",
    "\n",
    "i =-12\n",
    "max_date = session.query(Measurements).order_by(desc('date')).first()\n",
    "print(max_date.date)\n",
    "\n",
    "d = dt.datetime.strptime(max_date.date, \"%Y-%m-%d\")\n",
    "month_12 = d - dateutil.relativedelta.relativedelta(months=12)\n",
    "print(month_12)\n",
    "\n",
    "\n",
    "# print(now + dateutil.relativedelta.relativedelta(months=-1))\n",
    "\n",
    "# six_months_ago = max_date -  datetime.timedelta(weeks = 24)\n",
    "# six_months = max_date - relativedelta(months=+6)\n",
    "# six_months\n",
    "\n",
    "# othermonth = str(max_date.date) + relativedelta(months=i)\n",
    "# print(othermonth)\n",
    "dated = []\n",
    "precip = []\n",
    "results = session.query(Measurements).filter(Measurements.date > month_12).all()\n",
    "for measure in results:\n",
    "    dated.append(measure.date)\n",
    "#     print(dated)\n",
    "    precip.append(measure.prcp)\n",
    "#     print(precip)\n",
    "\n",
    "\n",
    "data=np.array([dated,precip])\n",
    "\n",
    "# Calculate the date 1 year ago from the last data point in the database\n",
    "\n",
    "# Perform a query to retrieve the data and precipitation scores\n",
    "\n",
    "# Save the query results as a Pandas DataFrame and set the index to the date column\n",
    "df =pd.DataFrame({\"dates\":dated,\"precipitation\":precip}, index=dated)\n",
    "# print dataframe. \n",
    "df.head()\n",
    "\n",
    "# Sort the dataframe by date\n",
    "df = df.sort_values(by=['dates'])\n",
    "# Use Pandas Plotting with Matplotlib to plot the data\n",
    "# df.plot(rot=90)\n",
    "\n",
    "\n",
    "df.plot(rot=90)\n",
    "plt.xlabel(\"Date\")\n",
    "plt.ylabel(\"Inches\")\n",
    "plt.legend(bbox_to_anchor=(1.05, 1), loc=2, borderaxespad=0.)\n"
   ]
  },
  {
   "cell_type": "code",
   "execution_count": 17,
   "metadata": {},
   "outputs": [
    {
     "name": "stdout",
     "output_type": "stream",
     "text": [
      "       precipitation\n",
      "count    2015.000000\n",
      "mean        0.176462\n",
      "std         0.460288\n",
      "min         0.000000\n",
      "25%         0.000000\n",
      "50%         0.020000\n",
      "75%         0.130000\n",
      "max         6.700000\n"
     ]
    }
   ],
   "source": [
    "# Use Pandas to calcualte the summary statistics for the precipitation data\n",
    "print(df.describe())"
   ]
  },
  {
   "cell_type": "code",
   "execution_count": 60,
   "metadata": {},
   "outputs": [
    {
     "data": {
      "text/plain": [
       "9"
      ]
     },
     "execution_count": 60,
     "metadata": {},
     "output_type": "execute_result"
    }
   ],
   "source": [
    "# Design a query to show how many stations are available in this dataset?\n",
    "# station_total = session.query(Station).filter('date')).count()\n",
    "tot_station = engine.execute('SELECT * FROM Station').fetchall()\n",
    "len(tot_station)\n",
    "#or\n",
    "engine.execute('SELECT count(*) FROM Station').fetchall()\n",
    "#or\n",
    "session.query(func.count(Stations.id)).scalar()"
   ]
  },
  {
   "cell_type": "code",
   "execution_count": 61,
   "metadata": {},
   "outputs": [
    {
     "name": "stdout",
     "output_type": "stream",
     "text": [
      "[('USC00519281', 12188, 2772), ('USC00519397', 1, 2724), ('USC00513117', 2725, 2709), ('USC00519523', 9519, 2669), ('USC00516128', 16939, 2612), ('USC00514830', 5434, 2202), ('USC00511918', 14960, 1979), ('USC00517948', 7636, 1372), ('USC00518838', 9008, 511)]\n"
     ]
    },
    {
     "data": {
      "text/plain": [
       "('USC00519281', 12188, 2772)"
      ]
     },
     "execution_count": 61,
     "metadata": {},
     "output_type": "execute_result"
    }
   ],
   "source": [
    "# What are the most active stations? (i.e. what stations have the most rows)?\n",
    "# List the stations and the counts in descending order.\n",
    "engine.execute('SELECT name FROM Station').fetchall()\n",
    "\n",
    "#all stations\n",
    "top_station = session.query(Measurements.station, Measurements.id, label('station_count',func.count(Measurements.id))).\\\n",
    "    group_by(Measurements.station).order_by(desc(func.count(Measurements.id))).all()\n",
    "print(top_station)\n",
    "\n",
    "#top station\n",
    "top_station_1 = session.query(Measurements.station, Measurements.id, label('station_count',func.count(Measurements.id))).\\\n",
    "    group_by(Measurements.station).order_by(desc(func.count(Measurements.id))).first()\n",
    "\n",
    "#top_station over last year\n",
    "top_station_year = session.query(Measurements.date, Measurements.tobs).filter(Measurements.date > month_12).filter(Measurements.station==top_station_1[0]).all()\n",
    "\n",
    "top_station_1"
   ]
  },
  {
   "cell_type": "code",
   "execution_count": 62,
   "metadata": {},
   "outputs": [
    {
     "name": "stdout",
     "output_type": "stream",
     "text": [
      "Low temperature  SELECT measurement.id AS measurement_id, measurement.station AS measurement_station, measurement.date AS measurement_date, measurement.prcp AS measurement_prcp, measurement.tobs AS measurement_tobs \n",
      "FROM measurement \n",
      "WHERE measurement.id = ?\n",
      " lowest temperature e.g 1 53.0\n",
      " highest temperature 87.0\n",
      " Top station WAIKIKI 717.2, HI US, station id is 1\n",
      "2016-08-23 00:00:00\n"
     ]
    },
    {
     "data": {
      "text/plain": [
       "(array([ 5.,  7.,  7., 12., 27., 41., 40., 57., 66., 52., 29.,  8.]),\n",
       " array([59., 61., 63., 65., 67., 69., 71., 73., 75., 77., 79., 81., 83.]),\n",
       " <a list of 1 Patch objects>)"
      ]
     },
     "execution_count": 62,
     "metadata": {},
     "output_type": "execute_result"
    },
    {
     "data": {
      "image/png": "[encoded data removed]",
      "text/plain": [
       "<Figure size 432x288 with 1 Axes>"
      ]
     },
     "metadata": {},
     "output_type": "display_data"
    }
   ],
   "source": [
    "# Using the station id from the previous query, calculate the lowest temperature recorded,\n",
    "# top_station_id = top_station[1]\n",
    "# top_station_id\n",
    "\n",
    "low_temp = session.query(Measurements).\\\n",
    "    filter(Measurements.id == top_station[1])\n",
    "print(f\"Low temperature  {low_temp}\")\n",
    "\n",
    "# lowest_temp = []\n",
    "# for tempt in low_temp:\n",
    "#     if type(tempt.tobs) == int:\n",
    "#         lowest_temp.append(tempt.tobs)\n",
    "# min(lowest_temp)\n",
    "\n",
    "\n",
    "lowest = session.query(Measurements.id, Measurements.tobs).\\\n",
    "    order_by(Measurements.tobs.asc()).first()\n",
    "print(f\" lowest temperature e.g 1 {lowest.tobs}\")\n",
    "#or\n",
    "results = session.query(Measurements).filter(Measurements.date > month_12).all()\n",
    "\n",
    "# min_temp = (session.query(Measurements, func.min(Measurements.tobs).filter_by(Measurements.id == 12188))\n",
    "#     .group_by(Measurements.tobs)\n",
    "#      ).all()\n",
    "# print(f\" Lowest temperature e.g 2 {min_temp}\")\n",
    "\n",
    "\n",
    "\n",
    "# highest temperature recorded, and average temperature of the most active station?\n",
    "highest = session.query(Measurements.id, Measurements.tobs).\\\n",
    "    order_by(Measurements.tobs.desc()).first()\n",
    "print(f\" highest temperature {highest.tobs}\")\n",
    "\n",
    "station_average = (session.query(Stations.name, func.count(Stations.id).label(\"# people\"))\n",
    "    .group_by(Stations.name)\n",
    "     ).all()\n",
    "\n",
    "\n",
    "# Choose the station with the highest number of temperature observations.\n",
    "top_station = session.query(Stations.name, label('station_count',func.count(Stations.id))).\\\n",
    "    group_by(Stations.id).first()\n",
    "\n",
    "print(f\" Top station {top_station.name}, station id is {top_station.station_count}\")\n",
    "\n",
    "# Query the last 12 months of temperature observation data for this station and plot the results as a histogram\n",
    "print(month_12)\n",
    "\n",
    "\n",
    "\n",
    "# measure_count = (session.query(Measurements.station, func.count(Measurements.tobs).label(\"# people\"))\n",
    "#     .group_by(Measurements.tobs)\n",
    "#      ).all() \n",
    "# print(f\"measure count {measure_count}\" )\n",
    "\n",
    "dated = []\n",
    "temps = []\n",
    "for measures in top_station_year:\n",
    "    dated.append(measures.date)\n",
    "    temps.append(measures.tobs)\n",
    "\n",
    "    data=np.array([dated,temps])\n",
    "\n",
    "# Calculate the date 1 year ago from the last data point in the database\n",
    "\n",
    "# Perform a query to retrieve the data and precipitation scores\n",
    "\n",
    "# Save the query results as a Pandas DataFrame and set the index to the date column\n",
    "df =pd.DataFrame({\"dates\":dated,\"tobs\":temps})\n",
    "# print dataframe. \n",
    "df.head()\n",
    "#print(df)\n",
    "\n",
    "# x_value = df.loc['dates']\n",
    "# y_value = df.iloc['tobs']\n",
    "\n",
    "x_value = list(dated)\n",
    "y_value = list(temps)\n",
    "\n",
    "\n",
    "\n",
    "# import matplotlib.pyplot as plt\n",
    "# import numpy as np\n",
    "# %matplotlib inline\n",
    "# ax = df.hist(column='x_value', by='y_value', bins=12, grid=False, figsize=(8,10), layout=(3,1), sharex=True, color='#86bf91', zorder=2, rwidth=0.9)\n",
    "\n",
    "# ax\n",
    "\n",
    "plt.hist(df['tobs'], bins=12, alpha=0.5, histtype='stepfilled', color='steelblue', edgecolor='none',# ax = df.hist(column='x_value', by='y_value', bins=12, grid=False, figsize=(8,10), layout=(3,1), sharex=True, color='#86bf91', zorder=2, rwidth=0.9)\n",
    ")\n",
    "\n",
    "# results = db.query(Measurements.station, label('members', func.count(Measurements.id)).group_by(Measurements.id).all()"
   ]
  },
  {
   "cell_type": "markdown",
   "metadata": {},
   "source": [
    "## Bonus Challenge Assignment"
   ]
  },
  {
   "cell_type": "code",
   "execution_count": 63,
   "metadata": {},
   "outputs": [
    {
     "name": "stdout",
     "output_type": "stream",
     "text": [
      "[(62.0, 69.88636363636364, 80.0)]\n"
     ]
    }
   ],
   "source": [
    "# This function called `calc_temps` will accept start date and end date in the format '%Y-%m-%d' \n",
    "# and return the minimum, average, and maximum temperatures for that range of dates\n",
    "def calc_temps(start_date, end_date):\n",
    "    \"\"\"TMIN, TAVG, and TMAX for a list of dates.\n",
    "    \n",
    "    Args:\n",
    "        start_date (string): A date string in the format %Y-%m-%d\n",
    "        end_date (string): A date string in the format %Y-%m-%d\n",
    "        \n",
    "    Returns:\n",
    "        TMIN, TAVE, and TMAX\n",
    "    \"\"\"\n",
    "    \n",
    "    return session.query(func.min(Measurements.tobs), func.avg(Measurements.tobs), func.max(Measurements.tobs)).\\\n",
    "        filter(Measurements.date >= start_date).filter(Measurements.date <= end_date).all()\n",
    "\n",
    "# function usage example\n",
    "print(calc_temps('2016-02-28', '2016-03-05'))"
   ]
  },
  {
   "cell_type": "code",
   "execution_count": 64,
   "metadata": {},
   "outputs": [
    {
     "name": "stdout",
     "output_type": "stream",
     "text": [
      "[(62.0, 71.0754716981132, 78.0)]\n",
      "[(62.0, 71.0754716981132, 78.0)]\n"
     ]
    }
   ],
   "source": [
    "# Use your previous function `calc_temps` to calculate the tmin, tavg, and tmax \n",
    "# for your trip using the previous year's data for those same dates.\n",
    "\n",
    "def calc_temps(start_date, end_date):\n",
    "    \"\"\"TMIN, TAVG, and TMAX for a list of dates.\n",
    "    \n",
    "    Args:\n",
    "        start_date (string): A date string in the format %Y-%m-%d\n",
    "        end_date (string): A date string in the format %Y-%m-%d\n",
    "        \n",
    "    Returns:\n",
    "        TMIN, TAVE, and TMAX\n",
    "    \"\"\"\n",
    "    \n",
    "    result_temps = session.query(label('TMIN',func.min(Measurements.tobs)), label('TAVE', func.avg(Measurements.tobs)),label('TMAX',func.max(Measurements.tobs))).\\\n",
    "        filter(Measurements.date > month_12).filter(Measurements.date >= start_date).filter(Measurements.date <= end_date).all()\n",
    "    \n",
    "    for result in result_temps:\n",
    "        print(list(result_temps))\n",
    "        \n",
    "#     listings = []\n",
    "#     for i in result_temps:\n",
    "#         listings.append(i)\n",
    "#     print(listings[])\n",
    "    \n",
    "    return result_temps\n",
    "    # function usage example\n",
    "\n",
    "print(calc_temps('2016-12-20', '2017-01-05'))\n",
    "    "
   ]
  },
  {
   "cell_type": "code",
   "execution_count": 65,
   "metadata": {},
   "outputs": [
    {
     "name": "stdout",
     "output_type": "stream",
     "text": [
      "[(62.0, 68.36585365853658, 74.0)]\n",
      "62.0 68.36585365853658 74.0\n"
     ]
    }
   ],
   "source": [
    "import datetime as dt\n",
    "\n",
    "prev_year_start = dt.date(2018,1,1) - dt.timedelta(days=365)\n",
    "prev_year_end = dt.date(2018,1,7) - dt.timedelta(days=365)\n",
    "\n",
    "tmin, tavg, tmax = calc_temps(prev_year_start.strftime(\"%Y-%m-%d\"),prev_year_end.strftime(\"%Y-%m-%d\"))[0]\n",
    "print(tmin, tavg, tmax)"
   ]
  },
  {
   "cell_type": "code",
   "execution_count": 66,
   "metadata": {},
   "outputs": [
    {
     "data": {
      "image/png": "[encoded data removed]",
      "text/plain": [
       "<Figure size 288x576 with 1 Axes>"
      ]
     },
     "metadata": {},
     "output_type": "display_data"
    }
   ],
   "source": [
    "# Plot the results from your previous query as a bar chart. \n",
    "# Use \"Trip Avg Temp\" as your Title\n",
    "# Use the average temperature for the y value\n",
    "# Use the peak-to-peak (tmax-tmin) value as the y error bar (yerr)\n",
    "fig, ax = plt.subplots(figsize=plt.figaspect(2.))\n",
    "xpos=1\n",
    "yerr = tmax - tmin\n",
    "\n",
    "bar = ax.bar(xpos, tmax, yerr=yerr , alpha=0.5, color='coral', align=\"center\")\n",
    "ax.set(xticks=range(xpos),xticklabels=\"a\", title=\"Trip Ave Temp\", ylabel=\"Y\", xlabel=\"X\")\n",
    "ax.margins(.2, .2)\n",
    "fig.tight_layout()\n",
    "# fig.show()"
   ]
  },
  {
   "cell_type": "code",
   "execution_count": null,
   "metadata": {},
   "outputs": [],
   "source": [
    "\n"
   ]
  },
  {
   "cell_type": "code",
   "execution_count": 67,
   "metadata": {},
   "outputs": [
    {
     "data": {
      "text/plain": [
       "[('WAIMANALO EXPERIMENTAL FARM, HI US', -157.71139, 21.33556, 19.5, 2015),\n",
       " ('WAIKIKI 717.2, HI US', -157.8168, 21.2716, 3.0, 2015),\n",
       " ('WAIHEE 837.5, HI US', -157.84888999999998, 21.45167, 32.9, 2015),\n",
       " ('UPPER WAHIAWA 874.3, HI US', -158.0111, 21.4992, 306.6, 2015),\n",
       " ('PEARL CITY, HI US', -157.9751, 21.3934, 11.9, 2015),\n",
       " ('MANOA LYON ARBO 785.2, HI US', -157.8025, 21.3331, 152.4, 2015),\n",
       " ('KUALOA RANCH HEADQUARTERS 886.9, HI US', -157.8374, 21.5213, 7.0, 2015),\n",
       " ('KANEOHE 838.1, HI US', -157.8015, 21.4234, 14.6, 2015),\n",
       " ('HONOLULU OBSERVATORY 702.2, HI US', -157.9992, 21.3152, 0.9, 2015)]"
      ]
     },
     "execution_count": 67,
     "metadata": {},
     "output_type": "execute_result"
    }
   ],
   "source": [
    "# Calculate the total amount of rainfall per weather station for your trip dates using the previous year's matching dates.\n",
    "# Sort this in descending order by precipitation amount and list the station, name, latitude, longitude, and elevation\n",
    "start_date = '2013-02-28'\n",
    "end_date = '2018-03-05'\n",
    "\n",
    "prpt_station = session.query(label('station_name',Stations.name), \\\n",
    "                             label('station_lon', Stations.longitude), \\\n",
    "                             label('station_lat', Stations.latitude), \\\n",
    "                             label('station_elev', Stations.elevation), \\\n",
    "                             label('count_prcp',func.count(Measurements.prcp))).\\\n",
    "        filter(Measurements.date > month_12).filter(Measurements.date >= start_date).\\\n",
    "                             filter(Measurements.date <= end_date).\\\n",
    "        group_by(Stations.name).order_by(desc(func.count(Measurements.prcp))).all()\n",
    "\n",
    "prpt_station"
   ]
  },
  {
   "cell_type": "code",
   "execution_count": 68,
   "metadata": {},
   "outputs": [
    {
     "data": {
      "text/plain": [
       "[(62.0, 69.15384615384616, 77.0)]"
      ]
     },
     "execution_count": 68,
     "metadata": {},
     "output_type": "execute_result"
    }
   ],
   "source": [
    "# Create a query that will calculate the daily normals \n",
    "# (i.e. the averages for tmin, tmax, and tavg for all historic data matching a specific month and day)\n",
    "\n",
    "def daily_normals(date):\n",
    "    \"\"\"Daily Normals.\n",
    "    \n",
    "    Args:\n",
    "        date (str): A date string in the format '%m-%d'\n",
    "        \n",
    "    Returns:\n",
    "        A list of tuples containing the daily normals, tmin, tavg, and tmax\n",
    "    \n",
    "    \"\"\"\n",
    "    \n",
    "    sel = [func.min(Measurements.tobs), func.avg(Measurements.tobs), func.max(Measurements.tobs)]\n",
    "    return session.query(*sel).filter(func.strftime(\"%m-%d\", Measurements.date) == date).all()\n",
    "    \n",
    "daily_normals(\"01-01\")"
   ]
  },
  {
   "cell_type": "code",
   "execution_count": 69,
   "metadata": {},
   "outputs": [
    {
     "data": {
      "text/plain": [
       "[(62.0, 69.15384615384616, 77.0),\n",
       " (60.0, 69.39622641509433, 77.0),\n",
       " (62.0, 68.9090909090909, 77.0),\n",
       " (58.0, 70.0, 76.0),\n",
       " (56.0, 67.96428571428571, 76.0),\n",
       " (61.0, 68.96491228070175, 76.0),\n",
       " (57.0, 68.54385964912281, 76.0)]"
      ]
     },
     "execution_count": 69,
     "metadata": {},
     "output_type": "execute_result"
    }
   ],
   "source": [
    "# calculate the daily normals for your trip\n",
    "# push each tuple of calculations into a list called `normals`\n",
    "\n",
    "# Set the start and end date of the trip\n",
    "\n",
    "trip_start = '2018-01-01'\n",
    "trip_end = '2018-01-07'\n",
    "\n",
    "trip_dates = pd.date_range(trip_start,trip_end, freq='D')\n",
    "\n",
    "#strip off year\n",
    "trip_month_day = trip_dates.strftime('%m-%d')\n",
    "#loop through list\n",
    "\n",
    "normals=[]\n",
    "\n",
    "for date in trip_month_day:\n",
    "    normals.append(*daily_normals(date))\n",
    "    \n",
    "normals"
   ]
  },
  {
   "cell_type": "code",
   "execution_count": 70,
   "metadata": {},
   "outputs": [
    {
     "data": {
      "text/html": [
       "<div>\n",
       "<style scoped>\n",
       "    .dataframe tbody tr th:only-of-type {\n",
       "        vertical-align: middle;\n",
       "    }\n",
       "\n",
       "    .dataframe tbody tr th {\n",
       "        vertical-align: top;\n",
       "    }\n",
       "\n",
       "    .dataframe thead th {\n",
       "        text-align: right;\n",
       "    }\n",
       "</style>\n",
       "<table border=\"1\" class=\"dataframe\">\n",
       "  <thead>\n",
       "    <tr style=\"text-align: right;\">\n",
       "      <th></th>\n",
       "      <th>tmin</th>\n",
       "      <th>tave</th>\n",
       "      <th>tmax</th>\n",
       "    </tr>\n",
       "    <tr>\n",
       "      <th>date</th>\n",
       "      <th></th>\n",
       "      <th></th>\n",
       "      <th></th>\n",
       "    </tr>\n",
       "  </thead>\n",
       "  <tbody>\n",
       "    <tr>\n",
       "      <th>2018-01-01</th>\n",
       "      <td>62.0</td>\n",
       "      <td>69.153846</td>\n",
       "      <td>77.0</td>\n",
       "    </tr>\n",
       "    <tr>\n",
       "      <th>2018-01-02</th>\n",
       "      <td>60.0</td>\n",
       "      <td>69.396226</td>\n",
       "      <td>77.0</td>\n",
       "    </tr>\n",
       "    <tr>\n",
       "      <th>2018-01-03</th>\n",
       "      <td>62.0</td>\n",
       "      <td>68.909091</td>\n",
       "      <td>77.0</td>\n",
       "    </tr>\n",
       "    <tr>\n",
       "      <th>2018-01-04</th>\n",
       "      <td>58.0</td>\n",
       "      <td>70.000000</td>\n",
       "      <td>76.0</td>\n",
       "    </tr>\n",
       "    <tr>\n",
       "      <th>2018-01-05</th>\n",
       "      <td>56.0</td>\n",
       "      <td>67.964286</td>\n",
       "      <td>76.0</td>\n",
       "    </tr>\n",
       "  </tbody>\n",
       "</table>\n",
       "</div>"
      ],
      "text/plain": [
       "            tmin       tave  tmax\n",
       "date                             \n",
       "2018-01-01  62.0  69.153846  77.0\n",
       "2018-01-02  60.0  69.396226  77.0\n",
       "2018-01-03  62.0  68.909091  77.0\n",
       "2018-01-04  58.0  70.000000  76.0\n",
       "2018-01-05  56.0  67.964286  76.0"
      ]
     },
     "execution_count": 70,
     "metadata": {},
     "output_type": "execute_result"
    }
   ],
   "source": [
    "# Load the previous query results into a Pandas DataFrame and add the `trip_dates` range as the `date` index\n",
    "# Creates pandas DataFrame. \n",
    "import datetime as dt, timedelta\n",
    "\n",
    "df = pd.DataFrame(normals, columns=['tmin','tave','tmax'])\n",
    "df['date'] = trip_dates\n",
    "df.set_index(['date'], inplace=True)\n",
    "df.head()"
   ]
  },
  {
   "cell_type": "code",
   "execution_count": 71,
   "metadata": {},
   "outputs": [
    {
     "data": {
      "text/plain": [
       "Text(0.5, -2.399355652982109, 'Temperature')"
      ]
     },
     "execution_count": 71,
     "metadata": {},
     "output_type": "execute_result"
    },
    {
     "data": {
      "image/png": "[encoded data removed]",
      "text/plain": [
       "<Figure size 432x288 with 1 Axes>"
      ]
     },
     "metadata": {},
     "output_type": "display_data"
    }
   ],
   "source": [
    "# Plot the daily normals as an area plot with `stacked=False`\n",
    "\n",
    "df.plot(kind='area', stacked=False, x_compat=True, alpha=.2)\n",
    "plt.tight_layout()\n",
    "plt.xlabel(\"Date\")\n",
    "plt.xlabel(\"Temperature\")\n"
   ]
  },
  {
   "cell_type": "code",
   "execution_count": null,
   "metadata": {},
   "outputs": [],
   "source": []
  },
  {
   "cell_type": "code",
   "execution_count": null,
   "metadata": {},
   "outputs": [],
   "source": []
  },
  {
   "cell_type": "code",
   "execution_count": null,
   "metadata": {},
   "outputs": [],
   "source": []
  },
  {
   "cell_type": "code",
   "execution_count": null,
   "metadata": {},
   "outputs": [],
   "source": []
  },
  {
   "cell_type": "code",
   "execution_count": null,
   "metadata": {},
   "outputs": [],
   "source": []
  }
 ],
 "metadata": {
  "kernel_info": {
   "name": "python3"
  },
  "kernelspec": {
   "display_name": "Python 3",
   "language": "python",
   "name": "python3"
  },
  "language_info": {
   "codemirror_mode": {
    "name": "ipython",
    "version": 3
   },
   "file_extension": ".py",
   "mimetype": "text/x-python",
   "name": "python",
   "nbconvert_exporter": "python",
   "pygments_lexer": "ipython3",
   "version": "3.6.10"
  },
  "nteract": {
   "version": "0.12.3"
  },
  "varInspector": {
   "cols": {
    "lenName": 16,
    "lenType": 16,
    "lenVar": 40
   },
   "kernels_config": {
    "python": {
     "delete_cmd_postfix": "",
     "delete_cmd_prefix": "del ",
     "library": "var_list.py",
     "varRefreshCmd": "print(var_dic_list())"
    },
    "r": {
     "delete_cmd_postfix": ") ",
     "delete_cmd_prefix": "rm(",
     "library": "var_list.r",
     "varRefreshCmd": "cat(var_dic_list()) "
    }
   },
   "types_to_exclude": [
    "module",
    "function",
    "builtin_function_or_method",
    "instance",
    "_Feature"
   ],
   "window_display": false
  }
 },
 "nbformat": 4,
 "nbformat_minor": 4
}
